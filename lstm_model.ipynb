{
 "cells": [
  {
   "cell_type": "markdown",
   "metadata": {},
   "source": [
    "# pytorch"
   ]
  },
  {
   "cell_type": "code",
   "execution_count": 8,
   "metadata": {},
   "outputs": [],
   "source": [
    "# Import packages\n",
    "import pandas as pd\n",
    "import numpy as np\n",
    "import torch\n",
    "from torch.utils.data import DataLoader, TensorDataset\n",
    "\n",
    "\n",
    "# Load data\n",
    "squat_data = pd.read_csv('squat_data.csv')\n",
    "up_data = pd.read_csv('up_data.csv')\n",
    "crunch_data = pd.read_csv('crunch_data.csv')\n",
    "lunge_data = pd.read_csv('lunge_data.csv')\n",
    "raise_data = pd.read_csv('raise_data.csv')\n",
    "\n",
    "\n",
    "sequence_length=200\n",
    "\n",
    "X_data=[]\n",
    "X_sequences1=[]\n",
    "X_sequences2=[]\n",
    "X_sequences3=[]\n",
    "X_sequences4=[]\n",
    "X_sequences5=[]\n",
    "\n",
    "\n",
    "squat_data_array = squat_data.to_numpy()\n",
    "up_data_array = up_data.to_numpy()\n",
    "crunch_data_array = crunch_data.to_numpy()\n",
    "lunge_data_array = lunge_data.to_numpy()\n",
    "raise_data_array = raise_data.to_numpy()\n",
    "\n",
    "\n",
    "# squat\n",
    "for i in range(len(squat_data_array) - sequence_length + 1):\n",
    "    X_sequences1.append(squat_data_array[i:i + sequence_length])\n",
    "y_squat=np.ones(len(X_sequences1))*0\n",
    "\n",
    "\n",
    "# push-up\n",
    "for i in range(len(up_data_array) - sequence_length + 1):\n",
    "    X_sequences2.append(up_data_array[i:i + sequence_length])\n",
    "y_up=np.ones(len(X_sequences2))*1    \n",
    "\n",
    "\n",
    "#crunch\n",
    "for i in range(len(crunch_data_array) - sequence_length + 1):\n",
    "    X_sequences3.append(crunch_data_array[i:i + sequence_length])\n",
    "y_crunch=np.ones(len(X_sequences3))*2    \n",
    "\n",
    "\n",
    "#lunge\n",
    "for i in range(len(lunge_data_array) - sequence_length + 1):\n",
    "    X_sequences4.append(lunge_data_array[i:i + sequence_length])\n",
    "y_lunge=np.ones(len(X_sequences4))*3\n",
    "\n",
    "\n",
    "#leg raise\n",
    "for i in range(len(raise_data_array) - sequence_length + 1):\n",
    "    X_sequences5.append(raise_data_array[i:i + sequence_length])\n",
    "    \n",
    "y_raise=np.ones(len(X_sequences5))*4   \n",
    "\n",
    "\n",
    "X_data = np.concatenate((X_sequences1, X_sequences2,X_sequences3, X_sequences4,X_sequences5), axis=0)\n",
    "y_data = np.concatenate((y_squat, y_up,y_crunch,y_lunge,y_raise), axis=0)\n",
    "\n",
    "\n",
    "X_tensor = torch.tensor(X_data, dtype=torch.float32)\n",
    "y_tensor = torch.tensor(y_data, dtype=torch.long)\n",
    "\n",
    "\n",
    "dataset = TensorDataset(X_tensor, y_tensor)\n",
    "batch_size = 32\n",
    "data_loader = DataLoader(dataset, batch_size=batch_size, shuffle=True)"
   ]
  },
  {
   "cell_type": "code",
   "execution_count": 9,
   "metadata": {},
   "outputs": [
    {
     "name": "stdout",
     "output_type": "stream",
     "text": [
      "Epoch [1/10], Loss: 0.0134\n",
      "Epoch [2/10], Loss: 0.0037\n",
      "Epoch [3/10], Loss: 0.0023\n",
      "Epoch [4/10], Loss: 0.0018\n",
      "Epoch [5/10], Loss: 0.0009\n",
      "Epoch [6/10], Loss: 0.0009\n",
      "Epoch [7/10], Loss: 0.0007\n",
      "Epoch [8/10], Loss: 0.0005\n",
      "Epoch [9/10], Loss: 0.0004\n",
      "Epoch [10/10], Loss: 0.0003\n"
     ]
    }
   ],
   "source": [
    "import torch.nn as nn\n",
    "import torch.optim as optim\n",
    "\n",
    "# Define the LSTM model\n",
    "class LSTMModel(nn.Module):\n",
    "    def __init__(self, input_size, hidden_size, num_layers, output_size):\n",
    "        super(LSTMModel, self).__init__()\n",
    "        self.hidden_size = hidden_size\n",
    "        self.num_layers = num_layers\n",
    "        self.lstm = nn.LSTM(input_size, hidden_size, num_layers, batch_first=True)\n",
    "        self.fc = nn.Linear(hidden_size, output_size)\n",
    "\n",
    "    def forward(self, x):\n",
    "        h0 = torch.zeros(self.num_layers, x.size(0), self.hidden_size).to(x.device)\n",
    "        c0 = torch.zeros(self.num_layers, x.size(0), self.hidden_size).to(x.device)\n",
    "\n",
    "        out, _ = self.lstm(x, (h0, c0))\n",
    "        \n",
    "        out = self.fc(out[:, -1, :])\n",
    "        return out\n",
    "\n",
    "\n",
    "\n",
    "input_size = 8  \n",
    "hidden_size = 64  \n",
    "num_layers = 2  \n",
    "output_size = 5  \n",
    "\n",
    "model = LSTMModel(input_size, hidden_size, num_layers, output_size)\n",
    "\n",
    "criterion = nn.CrossEntropyLoss()\n",
    "optimizer = optim.Adam(model.parameters(), lr=0.001)\n",
    "\n",
    "\n",
    "num_epochs = 10\n",
    "\n",
    "for epoch in range(num_epochs):\n",
    "    for inputs, labels in data_loader:\n",
    "        optimizer.zero_grad()\n",
    "        outputs = model(inputs)\n",
    "        loss = criterion(outputs, labels)\n",
    "        loss.backward()\n",
    "        optimizer.step()\n",
    "    \n",
    "    print(f'Epoch [{epoch+1}/{num_epochs}], Loss: {loss.item():.4f}')"
   ]
  },
  {
   "cell_type": "code",
   "execution_count": 10,
   "metadata": {},
   "outputs": [
    {
     "name": "stdout",
     "output_type": "stream",
     "text": [
      "Accuracy: 1.0000\n"
     ]
    },
    {
     "data": {
      "image/png": "[encoded data removed]",
      "text/plain": [
       "<Figure size 800x600 with 2 Axes>"
      ]
     },
     "metadata": {},
     "output_type": "display_data"
    }
   ],
   "source": [
    "import torch\n",
    "from sklearn.metrics import accuracy_score, confusion_matrix\n",
    "import matplotlib.pyplot as plt\n",
    "import seaborn as sns\n",
    "\n",
    "model.eval()\n",
    "\n",
    "true_labels = []\n",
    "predicted_labels = []\n",
    "\n",
    "with torch.no_grad():\n",
    "    for inputs, labels in data_loader:\n",
    "        outputs = model(inputs)\n",
    "        predicted = torch.argmax(outputs, dim=1)\n",
    "        \n",
    "        true_labels.extend(labels.cpu().numpy())\n",
    "        predicted_labels.extend(predicted.cpu().numpy())\n",
    "\n",
    "\n",
    "accuracy = accuracy_score(true_labels, predicted_labels)\n",
    "print(f'Accuracy: {accuracy:.4f}')\n",
    "\n",
    "\n",
    "cm = confusion_matrix(true_labels, predicted_labels)\n",
    "\n",
    "\n",
    "plt.figure(figsize=(8, 6))\n",
    "sns.heatmap(cm, annot=True, fmt=\"d\", cmap=\"Blues\", xticklabels=['Class 0', 'Class 1', 'Class 2', 'Class 3'], yticklabels=['Class 0', 'Class 1', 'Class 2', 'Class 3'])\n",
    "plt.xlabel('Predicted')\n",
    "plt.ylabel('True')\n",
    "plt.title('Confusion Matrix')\n",
    "plt.show()\n"
   ]
  },
  {
   "cell_type": "code",
   "execution_count": null,
   "metadata": {},
   "outputs": [],
   "source": [
    "# Save the trained model\n",
    "torch.save(model.state_dict(), 'model/lstm_model.pth')"
   ]
  }
 ],
 "metadata": {
  "kernelspec": {
   "display_name": "base",
   "language": "python",
   "name": "python3"
  },
  "language_info": {
   "codemirror_mode": {
    "name": "ipython",
    "version": 3
   },
   "file_extension": ".py",
   "mimetype": "text/x-python",
   "name": "python",
   "nbconvert_exporter": "python",
   "pygments_lexer": "ipython3",
   "version": "3.10.12"
  },
  "orig_nbformat": 4
 },
 "nbformat": 4,
 "nbformat_minor": 2
}
